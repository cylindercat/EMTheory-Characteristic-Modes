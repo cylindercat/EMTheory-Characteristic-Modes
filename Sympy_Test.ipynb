{
 "cells": [
  {
   "cell_type": "code",
   "execution_count": 125,
   "metadata": {},
   "outputs": [],
   "source": [
    "import sympy\n",
    "import sympy.functions\n",
    "sympy.init_printing()"
   ]
  },
  {
   "cell_type": "code",
   "execution_count": 126,
   "metadata": {},
   "outputs": [],
   "source": [
    "a0, a1, a2 = sympy.symbols(\"a0 a1 a2\", real=True)\n",
    "u = sympy.symbols(\"u\", real=True)\n",
    "z = sympy.functions.exp(sympy.I*u)"
   ]
  },
  {
   "cell_type": "code",
   "execution_count": 127,
   "metadata": {},
   "outputs": [],
   "source": [
    "F = a0 + a1 * z + a2 * z * z\n",
    "P = F * sympy.functions.conjugate(F)"
   ]
  },
  {
   "cell_type": "code",
   "execution_count": 128,
   "metadata": {},
   "outputs": [
    {
     "data": {
      "image/png": "[encoded data removed]",
      "text/latex": [
       "$$\\left(a_{0} + a_{1} e^{- i u} + a_{2} e^{- 2 i u}\\right) \\left(a_{0} + a_{1} e^{i u} + a_{2} e^{2 i u}\\right)$$"
      ],
      "text/plain": [
       "⎛         -ⅈ⋅u       -2⋅ⅈ⋅u⎞ ⎛         ⅈ⋅u       2⋅ⅈ⋅u⎞\n",
       "⎝a₀ + a₁⋅ℯ     + a₂⋅ℯ      ⎠⋅⎝a₀ + a₁⋅ℯ    + a₂⋅ℯ     ⎠"
      ]
     },
     "execution_count": 128,
     "metadata": {},
     "output_type": "execute_result"
    }
   ],
   "source": [
    "P"
   ]
  },
  {
   "cell_type": "code",
   "execution_count": 129,
   "metadata": {},
   "outputs": [
    {
     "data": {
      "image/png": "[encoded data removed]",
      "text/latex": [
       "$$a_{0}^{2} + a_{0} a_{1} e^{i u} + a_{0} a_{1} e^{- i u} + a_{0} a_{2} e^{2 i u} + a_{0} a_{2} e^{- 2 i u} + a_{1}^{2} + a_{1} a_{2} e^{i u} + a_{1} a_{2} e^{- i u} + a_{2}^{2}$$"
      ],
      "text/plain": [
       "  2          ⅈ⋅u          -ⅈ⋅u          2⋅ⅈ⋅u          -2⋅ⅈ⋅u     2          ⅈ\n",
       "a₀  + a₀⋅a₁⋅ℯ    + a₀⋅a₁⋅ℯ     + a₀⋅a₂⋅ℯ      + a₀⋅a₂⋅ℯ       + a₁  + a₁⋅a₂⋅ℯ \n",
       "\n",
       "⋅u          -ⅈ⋅u     2\n",
       "   + a₁⋅a₂⋅ℯ     + a₂ "
      ]
     },
     "execution_count": 129,
     "metadata": {},
     "output_type": "execute_result"
    }
   ],
   "source": [
    "P.expand()"
   ]
  },
  {
   "cell_type": "code",
   "execution_count": 130,
   "metadata": {},
   "outputs": [
    {
     "data": {
      "image/png": "[encoded data removed]",
      "text/latex": [
       "$$a_{0}^{2} + 2 a_{0} a_{1} \\cos{\\left (u \\right )} + 2 a_{0} a_{2} \\cos{\\left (2 u \\right )} + a_{1}^{2} + 2 a_{1} a_{2} \\cos{\\left (u \\right )} + a_{2}^{2}$$"
      ],
      "text/plain": [
       "  2                                         2                      2\n",
       "a₀  + 2⋅a₀⋅a₁⋅cos(u) + 2⋅a₀⋅a₂⋅cos(2⋅u) + a₁  + 2⋅a₁⋅a₂⋅cos(u) + a₂ "
      ]
     },
     "execution_count": 130,
     "metadata": {},
     "output_type": "execute_result"
    }
   ],
   "source": [
    "P.expand().rewrite(sympy.cos).simplify()"
   ]
  },
  {
   "cell_type": "code",
   "execution_count": 131,
   "metadata": {},
   "outputs": [
    {
     "data": {
      "image/png": "[encoded data removed]",
      "text/latex": [
       "$$- 2 a_{0} a_{1} \\sin{\\left (u \\right )} - 4 a_{0} a_{2} \\sin{\\left (2 u \\right )} - 2 a_{1} a_{2} \\sin{\\left (u \\right )}$$"
      ],
      "text/plain": [
       "-2⋅a₀⋅a₁⋅sin(u) - 4⋅a₀⋅a₂⋅sin(2⋅u) - 2⋅a₁⋅a₂⋅sin(u)"
      ]
     },
     "execution_count": 131,
     "metadata": {},
     "output_type": "execute_result"
    }
   ],
   "source": [
    "P_cos_form = P.expand().rewrite(sympy.cos).simplify()\n",
    "dP = sympy.diff(P_cos_form, u)\n",
    "dP"
   ]
  },
  {
   "cell_type": "code",
   "execution_count": 132,
   "metadata": {},
   "outputs": [
    {
     "data": {
      "image/png": "[encoded data removed]",
      "text/latex": [
       "$$\\left\\{u \\mid u \\in \\mathbb{R} \\wedge - 2 \\left(a_{0} a_{1} + 4 a_{0} a_{2} \\cos{\\left (u \\right )} + a_{1} a_{2}\\right) \\sin{\\left (u \\right )} = 0 \\right\\}$$"
      ],
      "text/plain": [
       "{u | u ∊ ℝ ∧ -2⋅(a₀⋅a₁ + 4⋅a₀⋅a₂⋅cos(u) + a₁⋅a₂)⋅sin(u) = 0}"
      ]
     },
     "execution_count": 132,
     "metadata": {},
     "output_type": "execute_result"
    }
   ],
   "source": [
    "sympy.solveset(dP, u)"
   ]
  },
  {
   "cell_type": "code",
   "execution_count": 133,
   "metadata": {},
   "outputs": [
    {
     "data": {
      "image/png": "[encoded data removed]",
      "text/latex": [
       "$$- \\frac{a_{1} \\left(a_{0} + a_{2}\\right)}{4 a_{0} a_{2}}$$"
      ],
      "text/plain": [
       "-a₁⋅(a₀ + a₂) \n",
       "──────────────\n",
       "   4⋅a₀⋅a₂    "
      ]
     },
     "execution_count": 133,
     "metadata": {},
     "output_type": "execute_result"
    }
   ],
   "source": [
    "dP_root_u = (-a1/4)*(a0+a2)/(a0*a2)\n",
    "dP_root_u"
   ]
  },
  {
   "cell_type": "code",
   "execution_count": 134,
   "metadata": {},
   "outputs": [],
   "source": [
    "dP_root_u2 = 2*dP_root_u*dP_root_u-1"
   ]
  },
  {
   "cell_type": "code",
   "execution_count": 135,
   "metadata": {},
   "outputs": [
    {
     "data": {
      "image/png": "[encoded data removed]",
      "text/latex": [
       "$$a_{0}^{2} - 2 a_{0} a_{2} + a_{1}^{2} + a_{2}^{2} - \\frac{a_{1}^{2} \\left(a_{0} + a_{2}\\right)^{2}}{4 a_{0} a_{2}}$$"
      ],
      "text/plain": [
       "                              2          2\n",
       "  2               2     2   a₁ ⋅(a₀ + a₂) \n",
       "a₀  - 2⋅a₀⋅a₂ + a₁  + a₂  - ──────────────\n",
       "                               4⋅a₀⋅a₂    "
      ]
     },
     "execution_count": 135,
     "metadata": {},
     "output_type": "execute_result"
    }
   ],
   "source": [
    "P_at_dP_root_u = a0*a0 + a1*a1 + a2*a2 + 2*(a0*a1+a1*a2)*dP_root_u + 2*a0*a2*dP_root_u2\n",
    "P_at_dP_root_u.simplify()"
   ]
  },
  {
   "cell_type": "code",
   "execution_count": null,
   "metadata": {},
   "outputs": [],
   "source": []
  }
 ],
 "metadata": {
  "kernelspec": {
   "display_name": "Python 3",
   "language": "python",
   "name": "python3"
  },
  "language_info": {
   "codemirror_mode": {
    "name": "ipython",
    "version": 3
   },
   "file_extension": ".py",
   "mimetype": "text/x-python",
   "name": "python",
   "nbconvert_exporter": "python",
   "pygments_lexer": "ipython3",
   "version": "3.7.0"
  }
 },
 "nbformat": 4,
 "nbformat_minor": 2
}
