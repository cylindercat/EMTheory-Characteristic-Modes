{
 "cells": [
  {
   "cell_type": "markdown",
   "metadata": {},
   "source": [
    "----\n",
    "# Linear Algebra Test\n"
   ]
  },
  {
   "cell_type": "code",
   "execution_count": 46,
   "metadata": {},
   "outputs": [],
   "source": [
    "import scipy\n",
    "import scipy.special\n",
    "import numpy as np\n",
    "from   numpy import linalg as LA"
   ]
  },
  {
   "cell_type": "code",
   "execution_count": 47,
   "metadata": {},
   "outputs": [
    {
     "name": "stdout",
     "output_type": "stream",
     "text": [
      "[[ 2  3  1]\n",
      " [ 6  5 -2]\n",
      " [ 1  2  5]]\n"
     ]
    }
   ],
   "source": [
    "Ai = np.array([[2, 3, 1], [6, 5, -2], [1, 2, 5]])\n",
    "print(Ai)"
   ]
  },
  {
   "cell_type": "code",
   "execution_count": 48,
   "metadata": {},
   "outputs": [
    {
     "name": "stdout",
     "output_type": "stream",
     "text": [
      "trace(Ai) = 12\n"
     ]
    }
   ],
   "source": [
    "print(\"trace(Ai) = {0}\".format(np.trace(Ai)))"
   ]
  },
  {
   "cell_type": "code",
   "execution_count": 49,
   "metadata": {},
   "outputs": [
    {
     "name": "stdout",
     "output_type": "stream",
     "text": [
      "Eigenvalue  of [Ai] : \n",
      " [-0.77652737  7.33091406  5.44561331]\n",
      "---\n",
      "Eigenvector of [Ai] : \n",
      " [[-0.7088554   0.45072795  0.3192344 ]\n",
      " [ 0.69540408  0.57268111  0.05122261]\n",
      " [-0.11805584  0.68474861  0.94629046]]\n",
      "---\n",
      "[Ai] * [v1] = \n",
      " [ 0.55044562 -0.5400003   0.09167359]\n",
      " L1  * [v1] = \n",
      " [ 0.55044562 -0.5400003   0.09167359]\n",
      "---\n",
      "[Ai] * [v2] = \n",
      " [3.30424784 4.19827601 5.01983323]\n",
      " L2  * [v2] = \n",
      " [3.30424784 4.19827601 5.01983323]\n",
      "---\n",
      "[Ai] * [v3] = \n",
      " [1.7384271  0.27893854 5.15313194]\n",
      " L3  * [v3] = \n",
      " [1.7384271  0.27893854 5.15313194]\n"
     ]
    }
   ],
   "source": [
    "Ln, vn = LA.eig(Ai)\n",
    "print(\"Eigenvalue  of [Ai] : \\n {0}\".format(Ln))\n",
    "print(\"---\")\n",
    "print(\"Eigenvector of [Ai] : \\n {0}\".format(vn))\n",
    "print(\"---\")\n",
    "print(\"[Ai] * [v1] = \\n {0}\".format(np.dot(Ai, vn[:,0])))\n",
    "print(\" L1  * [v1] = \\n {0}\".format(Ln[0] * vn[:,0]))\n",
    "print(\"---\")\n",
    "print(\"[Ai] * [v2] = \\n {0}\".format(np.dot(Ai, vn[:,1])))\n",
    "print(\" L2  * [v2] = \\n {0}\".format(Ln[1] * vn[:,1]))\n",
    "print(\"---\")\n",
    "print(\"[Ai] * [v3] = \\n {0}\".format(np.dot(Ai, vn[:,2])))\n",
    "print(\" L3  * [v3] = \\n {0}\".format(Ln[2] * vn[:,2]))"
   ]
  },
  {
   "cell_type": "markdown",
   "metadata": {},
   "source": [
    "----\n",
    "# matplotlib test\n",
    "\n",
    "Return type of matplotlib.pyplot.plot: A list of Line2D objects representing the plotted data.\n",
    "\n",
    "Return type of matplotlib.pyplot.subplot: An axes.SubplotBase subclass of Axes (or a subclass of Axes)"
   ]
  },
  {
   "cell_type": "code",
   "execution_count": 9,
   "metadata": {},
   "outputs": [],
   "source": [
    "import matplotlib.pyplot as plt\n",
    "import numpy as np"
   ]
  },
  {
   "cell_type": "code",
   "execution_count": 16,
   "metadata": {},
   "outputs": [],
   "source": [
    "xi = np.arange(0.0, 10.0, 0.01)\n",
    "yi = scipy.special.jv(0,xi)"
   ]
  },
  {
   "cell_type": "code",
   "execution_count": 38,
   "metadata": {},
   "outputs": [
    {
     "data": {
      "image/png": "[encoded data removed]",
      "text/plain": [
       "<Figure size 432x288 with 1 Axes>"
      ]
     },
     "metadata": {
      "needs_background": "light"
     },
     "output_type": "display_data"
    }
   ],
   "source": [
    "fig, ax = plt.subplots()\n",
    "ax.plot(xi, yi)\n",
    "ax.set_title('Bessel Function of the First Kind', fontsize = 18)\n",
    "ax.set_xlabel('$x$', fontsize = 16)\n",
    "ax.set_ylabel('$J_0(x)$', fontsize = 16)\n",
    "ax.tick_params(labelsize = 14)\n",
    "ax.set_xlim(0, 10)\n",
    "ax.set_ylim(-1, 1)\n",
    "ax.set_xticks(list(range(11)))\n",
    "ax.set_yticks([-1, -0.5, 0, 0.5, 1])\n",
    "ax.grid()\n",
    "plt.show()"
   ]
  },
  {
   "cell_type": "code",
   "execution_count": null,
   "metadata": {},
   "outputs": [],
   "source": []
  }
 ],
 "metadata": {
  "kernelspec": {
   "display_name": "Python 3",
   "language": "python",
   "name": "python3"
  },
  "language_info": {
   "codemirror_mode": {
    "name": "ipython",
    "version": 3
   },
   "file_extension": ".py",
   "mimetype": "text/x-python",
   "name": "python",
   "nbconvert_exporter": "python",
   "pygments_lexer": "ipython3",
   "version": "3.7.0"
  }
 },
 "nbformat": 4,
 "nbformat_minor": 2
}
